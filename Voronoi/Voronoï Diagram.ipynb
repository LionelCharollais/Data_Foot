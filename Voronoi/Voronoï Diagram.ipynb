{
 "cells": [
  {
   "cell_type": "code",
   "execution_count": 1,
   "id": "8b6587f2",
   "metadata": {
    "collapsed": true
   },
   "outputs": [
    {
     "name": "stdout",
     "output_type": "stream",
     "text": [
      "Collecting mplsoccer\n",
      "  Downloading mplsoccer-1.1.4-py3-none-any.whl (67 kB)\n",
      "Requirement already satisfied: numpy in c:\\users\\lione\\anaconda3\\lib\\site-packages (from mplsoccer) (1.23.2)\n",
      "Requirement already satisfied: pandas in c:\\users\\lione\\anaconda3\\lib\\site-packages (from mplsoccer) (1.4.4)\n",
      "Requirement already satisfied: pillow in c:\\users\\lione\\anaconda3\\lib\\site-packages (from mplsoccer) (9.0.1)\n",
      "Requirement already satisfied: matplotlib in c:\\users\\lione\\anaconda3\\lib\\site-packages (from mplsoccer) (3.5.1)\n",
      "Requirement already satisfied: scipy in c:\\users\\lione\\anaconda3\\lib\\site-packages (from mplsoccer) (1.9.1)\n",
      "Requirement already satisfied: seaborn in c:\\users\\lione\\anaconda3\\lib\\site-packages (from mplsoccer) (0.11.2)\n",
      "Requirement already satisfied: beautifulsoup4 in c:\\users\\lione\\anaconda3\\lib\\site-packages (from mplsoccer) (4.11.1)\n",
      "Requirement already satisfied: soupsieve>1.2 in c:\\users\\lione\\anaconda3\\lib\\site-packages (from beautifulsoup4->mplsoccer) (2.3.1)\n",
      "Requirement already satisfied: cycler>=0.10 in c:\\users\\lione\\anaconda3\\lib\\site-packages (from matplotlib->mplsoccer) (0.11.0)\n",
      "Requirement already satisfied: fonttools>=4.22.0 in c:\\users\\lione\\anaconda3\\lib\\site-packages (from matplotlib->mplsoccer) (4.25.0)\n",
      "Requirement already satisfied: python-dateutil>=2.7 in c:\\users\\lione\\anaconda3\\lib\\site-packages (from matplotlib->mplsoccer) (2.8.2)\n",
      "Requirement already satisfied: kiwisolver>=1.0.1 in c:\\users\\lione\\anaconda3\\lib\\site-packages (from matplotlib->mplsoccer) (1.3.2)\n",
      "Requirement already satisfied: packaging>=20.0 in c:\\users\\lione\\anaconda3\\lib\\site-packages (from matplotlib->mplsoccer) (21.3)\n",
      "Requirement already satisfied: pyparsing>=2.2.1 in c:\\users\\lione\\anaconda3\\lib\\site-packages (from matplotlib->mplsoccer) (3.0.4)\n",
      "Requirement already satisfied: six>=1.5 in c:\\users\\lione\\anaconda3\\lib\\site-packages (from python-dateutil>=2.7->matplotlib->mplsoccer) (1.16.0)\n",
      "Requirement already satisfied: pytz>=2020.1 in c:\\users\\lione\\anaconda3\\lib\\site-packages (from pandas->mplsoccer) (2021.3)\n",
      "Installing collected packages: mplsoccer\n",
      "Successfully installed mplsoccer-1.1.4\n",
      "Note: you may need to restart the kernel to use updated packages.\n"
     ]
    }
   ],
   "source": [
    "pip install mplsoccer"
   ]
  },
  {
   "cell_type": "code",
   "execution_count": 21,
   "id": "bf166328",
   "metadata": {},
   "outputs": [],
   "source": [
    "import matplotlib.pyplot as plt\n",
    "import pandas as pd\n",
    "import numpy as np\n",
    "from mplsoccer import Pitch, VerticalPitch\n",
    "from PIL import Image"
   ]
  },
  {
   "cell_type": "code",
   "execution_count": 4,
   "id": "5fabef84",
   "metadata": {},
   "outputs": [
    {
     "data": {
      "image/png": "[encoded data removed]",
      "text/plain": [
       "<Figure size 576x1008 with 1 Axes>"
      ]
     },
     "metadata": {
      "needs_background": "light"
     },
     "output_type": "display_data"
    }
   ],
   "source": [
    "# Création du terrain\n",
    "\n",
    "fig, ax = plt.subplots(figsize=(8, 14)) # Taille du graphique\n",
    "\n",
    "pitch = Pitch(pitch_type = 'statsbomb', pitch_color = 'black', line_color = 'orange', \n",
    "              half = True, label = True, axis = True, tick = True)   \n",
    "\n",
    "# label = graduation\n",
    "# Si on veut vertical : VerticalPitch(...)\n",
    "\n",
    "pitch.draw(ax=ax)  # dessiner le terrain : ici ça prend tt le graphique\n"
   ]
  },
  {
   "cell_type": "code",
   "execution_count": 9,
   "id": "3685b354",
   "metadata": {},
   "outputs": [
    {
     "data": {
      "text/html": [
       "<div>\n",
       "<style scoped>\n",
       "    .dataframe tbody tr th:only-of-type {\n",
       "        vertical-align: middle;\n",
       "    }\n",
       "\n",
       "    .dataframe tbody tr th {\n",
       "        vertical-align: top;\n",
       "    }\n",
       "\n",
       "    .dataframe thead th {\n",
       "        text-align: right;\n",
       "    }\n",
       "</style>\n",
       "<table border=\"1\" class=\"dataframe\">\n",
       "  <thead>\n",
       "    <tr style=\"text-align: right;\">\n",
       "      <th></th>\n",
       "      <th>x</th>\n",
       "      <th>y</th>\n",
       "      <th>team</th>\n",
       "    </tr>\n",
       "  </thead>\n",
       "  <tbody>\n",
       "    <tr>\n",
       "      <th>0</th>\n",
       "      <td>118</td>\n",
       "      <td>40</td>\n",
       "      <td>0</td>\n",
       "    </tr>\n",
       "    <tr>\n",
       "      <th>1</th>\n",
       "      <td>109</td>\n",
       "      <td>44</td>\n",
       "      <td>0</td>\n",
       "    </tr>\n",
       "    <tr>\n",
       "      <th>2</th>\n",
       "      <td>113</td>\n",
       "      <td>40</td>\n",
       "      <td>0</td>\n",
       "    </tr>\n",
       "    <tr>\n",
       "      <th>3</th>\n",
       "      <td>110</td>\n",
       "      <td>46</td>\n",
       "      <td>0</td>\n",
       "    </tr>\n",
       "    <tr>\n",
       "      <th>4</th>\n",
       "      <td>108</td>\n",
       "      <td>50</td>\n",
       "      <td>0</td>\n",
       "    </tr>\n",
       "    <tr>\n",
       "      <th>5</th>\n",
       "      <td>109</td>\n",
       "      <td>53</td>\n",
       "      <td>0</td>\n",
       "    </tr>\n",
       "    <tr>\n",
       "      <th>6</th>\n",
       "      <td>105</td>\n",
       "      <td>59</td>\n",
       "      <td>0</td>\n",
       "    </tr>\n",
       "    <tr>\n",
       "      <th>7</th>\n",
       "      <td>95</td>\n",
       "      <td>65</td>\n",
       "      <td>0</td>\n",
       "    </tr>\n",
       "    <tr>\n",
       "      <th>8</th>\n",
       "      <td>90</td>\n",
       "      <td>60</td>\n",
       "      <td>0</td>\n",
       "    </tr>\n",
       "    <tr>\n",
       "      <th>9</th>\n",
       "      <td>109</td>\n",
       "      <td>45</td>\n",
       "      <td>1</td>\n",
       "    </tr>\n",
       "    <tr>\n",
       "      <th>10</th>\n",
       "      <td>101</td>\n",
       "      <td>55</td>\n",
       "      <td>1</td>\n",
       "    </tr>\n",
       "    <tr>\n",
       "      <th>11</th>\n",
       "      <td>98</td>\n",
       "      <td>48</td>\n",
       "      <td>1</td>\n",
       "    </tr>\n",
       "    <tr>\n",
       "      <th>12</th>\n",
       "      <td>103</td>\n",
       "      <td>25</td>\n",
       "      <td>1</td>\n",
       "    </tr>\n",
       "    <tr>\n",
       "      <th>13</th>\n",
       "      <td>96</td>\n",
       "      <td>56</td>\n",
       "      <td>1</td>\n",
       "    </tr>\n",
       "  </tbody>\n",
       "</table>\n",
       "</div>"
      ],
      "text/plain": [
       "      x   y  team\n",
       "0   118  40     0\n",
       "1   109  44     0\n",
       "2   113  40     0\n",
       "3   110  46     0\n",
       "4   108  50     0\n",
       "5   109  53     0\n",
       "6   105  59     0\n",
       "7    95  65     0\n",
       "8    90  60     0\n",
       "9   109  45     1\n",
       "10  101  55     1\n",
       "11   98  48     1\n",
       "12  103  25     1\n",
       "13   96  56     1"
      ]
     },
     "execution_count": 9,
     "metadata": {},
     "output_type": "execute_result"
    }
   ],
   "source": [
    "# Coordonnées des points\n",
    "\n",
    "# Positions des 5 joueurs de l'ASSE (JPK, Aiki, Lobry...)\n",
    "ASSE_x = [109, 101, 98, 103, 96]\n",
    "ASSE_y = [45, 55, 48, 25, 56]\n",
    "\n",
    "\n",
    "QRM_x = [118, 109, 113, 110, 108, 109, 105, 95, 90]\n",
    "QRM_y = [40, 44, 40, 46, 50, 53, 59, 65, 60]\n",
    "\n",
    "ASSE = list(np.ones((5,), dtype=int))\n",
    "QRM =list(np.zeros((9,), dtype=int))\n",
    "\n",
    "df = pd.DataFrame({\n",
    "    'x': QRM_x + ASSE_x,\n",
    "    'y': QRM_y + ASSE_y,\n",
    "    'team': QRM + ASSE\n",
    "    \n",
    "})\n",
    "df"
   ]
  },
  {
   "cell_type": "code",
   "execution_count": 36,
   "id": "d7ec6a4d",
   "metadata": {},
   "outputs": [
    {
     "data": {
      "text/plain": [
       "array([[118,  40],\n",
       "       [109,  44],\n",
       "       [113,  40],\n",
       "       [110,  46],\n",
       "       [108,  50],\n",
       "       [109,  53],\n",
       "       [105,  59],\n",
       "       [ 95,  65],\n",
       "       [ 90,  60],\n",
       "       [109,  45],\n",
       "       [101,  55],\n",
       "       [ 98,  48],\n",
       "       [103,  25],\n",
       "       [ 96,  56]], dtype=int64)"
      ]
     },
     "execution_count": 36,
     "metadata": {},
     "output_type": "execute_result"
    }
   ],
   "source": [
    "points = np.column_stack((df.x, df.y))\n",
    "points"
   ]
  },
  {
   "cell_type": "code",
   "execution_count": 44,
   "id": "a9c4ec9b",
   "metadata": {
    "scrolled": true
   },
   "outputs": [
    {
     "data": {
      "image/png": "[encoded data removed]",
      "text/plain": [
       "<Figure size 432x288 with 2 Axes>"
      ]
     },
     "metadata": {
      "needs_background": "light"
     },
     "output_type": "display_data"
    }
   ],
   "source": [
    "fig, (ax1, ax2) = plt.subplots(1,2) # Taille du graphique\n",
    "\n",
    "image = Image.open(\"C:/Users/lione/Images/JPK_QRM.png\")\n",
    "ax1.imshow(image, label = False)\n",
    "ax1.set_axis_off() # Ne pas afficher les axes pour le compartiement ax1 (image)\n",
    "\n",
    "fig.set_facecolor(\"none\")  # couleur de l'arrière plan (tout ce qui est en dehors du graphe)\n",
    "ax.patch.set_facecolor(\"#22312b\") # couleur de l'arrière plan du graphe\n",
    "\n",
    "pitch = VerticalPitch(pitch_type = 'statsbomb', pitch_color = 'black', line_color = 'orange', \n",
    "              half = True)   \n",
    "\n",
    "pitch.draw(ax=ax2)\n",
    "\n",
    "x = df.x\n",
    "y = df.y\n",
    "team1, team2 = pitch.voronoi(x, y, df.team)\n",
    "\n",
    "t1 = pitch.polygon(team1, ax=ax2, fc='green', ec='white', lw=3, alpha=.4)  # team1 = ASSE\n",
    "t2 = pitch.polygon(team2, ax=ax2, fc='red', ec='white', lw=3, alpha=.4)\n",
    "\n",
    "plt.savefig('JPK_Voronoi.png',dpi=800)"
   ]
  },
  {
   "cell_type": "code",
   "execution_count": null,
   "id": "1325e584",
   "metadata": {},
   "outputs": [],
   "source": []
  },
  {
   "cell_type": "code",
   "execution_count": null,
   "id": "ef6121a1",
   "metadata": {},
   "outputs": [],
   "source": []
  },
  {
   "cell_type": "code",
   "execution_count": null,
   "id": "97e523ba",
   "metadata": {},
   "outputs": [],
   "source": []
  }
 ],
 "metadata": {
  "kernelspec": {
   "display_name": "Python 3 (ipykernel)",
   "language": "python",
   "name": "python3"
  },
  "language_info": {
   "codemirror_mode": {
    "name": "ipython",
    "version": 3
   },
   "file_extension": ".py",
   "mimetype": "text/x-python",
   "name": "python",
   "nbconvert_exporter": "python",
   "pygments_lexer": "ipython3",
   "version": "3.9.12"
  }
 },
 "nbformat": 4,
 "nbformat_minor": 5
}
